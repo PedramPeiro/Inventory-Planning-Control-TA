{
 "cells": [
  {
   "cell_type": "markdown",
   "metadata": {},
   "source": [
    "# Python for Engineering Statistics\n",
    "\n",
    "## Dr.َ Behrooz Karimi\n",
    "### By: Pedram Peiro"
   ]
  },
  {
   "cell_type": "markdown",
   "metadata": {},
   "source": [
    "## Question 1"
   ]
  },
  {
   "cell_type": "code",
   "execution_count": null,
   "metadata": {
    "ExecuteTime": {
     "end_time": "2022-08-29T08:31:28.250713Z",
     "start_time": "2022-08-29T08:31:28.232762Z"
    }
   },
   "outputs": [],
   "source": [
    "def answer_one(summ , product):\n",
    "    \n",
    "    ''' write your \n",
    "    code in this function'''\n",
    "   \n",
    "    return"
   ]
  },
  {
   "cell_type": "code",
   "execution_count": null,
   "metadata": {
    "ExecuteTime": {
     "end_time": "2022-08-29T08:31:28.729432Z",
     "start_time": "2022-08-29T08:31:28.711481Z"
    }
   },
   "outputs": [],
   "source": [
    "# Don't change this cell.\n",
    "answer_one(summ , product)"
   ]
  },
  {
   "cell_type": "markdown",
   "metadata": {},
   "source": [
    "## Question 2"
   ]
  },
  {
   "cell_type": "code",
   "execution_count": null,
   "metadata": {
    "ExecuteTime": {
     "end_time": "2022-08-29T08:31:30.228423Z",
     "start_time": "2022-08-29T08:31:30.219447Z"
    }
   },
   "outputs": [],
   "source": [
    "def answer_two(matrix):\n",
    "    \n",
    "    ''' write your \n",
    "    code in this function'''\n",
    "\n",
    "    return"
   ]
  },
  {
   "cell_type": "code",
   "execution_count": null,
   "metadata": {
    "ExecuteTime": {
     "end_time": "2022-08-29T08:31:30.814852Z",
     "start_time": "2022-08-29T08:31:30.770971Z"
    }
   },
   "outputs": [],
   "source": [
    "# Don't change this cell.\n",
    "answer_two(matrix)"
   ]
  },
  {
   "cell_type": "markdown",
   "metadata": {
    "ExecuteTime": {
     "end_time": "2022-03-16T17:33:15.610241Z",
     "start_time": "2022-03-16T17:33:15.588606Z"
    }
   },
   "source": [
    "## Question 3"
   ]
  },
  {
   "cell_type": "code",
   "execution_count": null,
   "metadata": {
    "ExecuteTime": {
     "end_time": "2022-08-29T08:31:33.785904Z",
     "start_time": "2022-08-29T08:31:33.775931Z"
    }
   },
   "outputs": [],
   "source": [
    "import random\n",
    "def answer_three(lower , upper):\n",
    "    \n",
    "    ''' write your \n",
    "    code in this function'''\n",
    "\n",
    "    return"
   ]
  },
  {
   "cell_type": "code",
   "execution_count": null,
   "metadata": {
    "ExecuteTime": {
     "end_time": "2022-08-29T08:31:34.808168Z",
     "start_time": "2022-08-29T08:31:34.794239Z"
    }
   },
   "outputs": [],
   "source": [
    "# Don't change this cell.\n",
    "answer_three(lower , upper)"
   ]
  },
  {
   "cell_type": "markdown",
   "metadata": {},
   "source": [
    "# Question 4"
   ]
  },
  {
   "cell_type": "code",
   "execution_count": null,
   "metadata": {
    "ExecuteTime": {
     "end_time": "2022-08-29T08:31:39.852069Z",
     "start_time": "2022-08-29T08:31:39.842096Z"
    }
   },
   "outputs": [],
   "source": [
    "def answer_four(num):\n",
    "    \n",
    "    ''' write your \n",
    "    code in this function'''\n",
    "\n",
    "    return"
   ]
  },
  {
   "cell_type": "code",
   "execution_count": null,
   "metadata": {
    "ExecuteTime": {
     "end_time": "2022-08-29T08:31:40.781582Z",
     "start_time": "2022-08-29T08:31:40.749669Z"
    }
   },
   "outputs": [],
   "source": [
    "# Don't change this cell.\n",
    "answer_four(num)"
   ]
  },
  {
   "cell_type": "markdown",
   "metadata": {},
   "source": [
    "## Question 5"
   ]
  },
  {
   "cell_type": "code",
   "execution_count": null,
   "metadata": {
    "ExecuteTime": {
     "end_time": "2022-08-29T08:31:45.484365Z",
     "start_time": "2022-08-29T08:31:45.475390Z"
    }
   },
   "outputs": [],
   "source": [
    "def answer_five(first_row):\n",
    "    \n",
    "    ''' write your \n",
    "    code in this function'''\n",
    "    \n",
    "    return "
   ]
  },
  {
   "cell_type": "code",
   "execution_count": null,
   "metadata": {
    "ExecuteTime": {
     "end_time": "2022-08-29T08:31:46.267303Z",
     "start_time": "2022-08-29T08:31:46.240342Z"
    }
   },
   "outputs": [],
   "source": [
    "# Don't change this cell.\n",
    "answer_five(first_row)"
   ]
  },
  {
   "cell_type": "markdown",
   "metadata": {},
   "source": [
    "## Question 6 (Bonus)"
   ]
  },
  {
   "cell_type": "code",
   "execution_count": null,
   "metadata": {
    "ExecuteTime": {
     "end_time": "2022-08-29T08:31:47.901246Z",
     "start_time": "2022-08-29T08:31:47.886240Z"
    }
   },
   "outputs": [],
   "source": [
    "def answer_six(card):\n",
    "    \n",
    "    ''' write your \n",
    "    code in this function'''\n",
    "    return"
   ]
  },
  {
   "cell_type": "code",
   "execution_count": null,
   "metadata": {
    "ExecuteTime": {
     "end_time": "2022-08-29T08:31:48.842888Z",
     "start_time": "2022-08-29T08:31:48.668180Z"
    }
   },
   "outputs": [],
   "source": [
    "# Don't change this cell.\n",
    "answer_six(card)"
   ]
  }
 ],
 "metadata": {
  "kernelspec": {
   "display_name": "Python 3 (ipykernel)",
   "language": "python",
   "name": "python3"
  },
  "language_info": {
   "codemirror_mode": {
    "name": "ipython",
    "version": 3
   },
   "file_extension": ".py",
   "mimetype": "text/x-python",
   "name": "python",
   "nbconvert_exporter": "python",
   "pygments_lexer": "ipython3",
   "version": "3.10.6"
  },
  "toc": {
   "base_numbering": 1,
   "nav_menu": {},
   "number_sections": false,
   "sideBar": true,
   "skip_h1_title": false,
   "title_cell": "Table of Contents",
   "title_sidebar": "Contents",
   "toc_cell": false,
   "toc_position": {
    "height": "calc(100% - 180px)",
    "left": "10px",
    "top": "150px",
    "width": "174px"
   },
   "toc_section_display": true,
   "toc_window_display": false
  },
  "varInspector": {
   "cols": {
    "lenName": 16,
    "lenType": 16,
    "lenVar": 40
   },
   "kernels_config": {
    "python": {
     "delete_cmd_postfix": "",
     "delete_cmd_prefix": "del ",
     "library": "var_list.py",
     "varRefreshCmd": "print(var_dic_list())"
    },
    "r": {
     "delete_cmd_postfix": ") ",
     "delete_cmd_prefix": "rm(",
     "library": "var_list.r",
     "varRefreshCmd": "cat(var_dic_list()) "
    }
   },
   "types_to_exclude": [
    "module",
    "function",
    "builtin_function_or_method",
    "instance",
    "_Feature"
   ],
   "window_display": false
  }
 },
 "nbformat": 4,
 "nbformat_minor": 4
}
