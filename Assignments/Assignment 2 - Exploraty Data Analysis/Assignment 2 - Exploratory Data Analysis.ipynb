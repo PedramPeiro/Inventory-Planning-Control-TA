{
 "cells": [
  {
   "cell_type": "markdown",
   "metadata": {},
   "source": [
    "# Python for Engineering Statistics\n",
    "\n",
    "## Dr.َ Behrooz Karimi\n",
    "<img src=\"inventory_management.jpg\" alt=\"Drawing\" style=\"width: 500px;\"/>\n",
    "\n",
    "### By: Pedram Peiro"
   ]
  },
  {
   "cell_type": "markdown",
   "metadata": {},
   "source": [
    "# About This Dataset"
   ]
  },
  {
   "cell_type": "markdown",
   "metadata": {},
   "source": [
    "This dataset contains information about samples which were taken from a car population. Each of the columns describe a car in a certain way."
   ]
  },
  {
   "cell_type": "markdown",
   "metadata": {},
   "source": [
    "## Some Important Notes to Answer The Questions"
   ]
  },
  {
   "cell_type": "markdown",
   "metadata": {},
   "source": [
    "1. Answer each of the questions in only one cell with the specified structure which is written above the question.\n",
    "2. Your output should be exactly in the same way as it is mentioned in each question, otherwise you may lose score by mistake.\n",
    "3. Try to keep your code as clean as possible.\n",
    "4. Don't forget that the dataset might be messy and you have to clean it first!\n",
    "5. **DO NOT** print anything unless it is said so.\n",
    "6. Do all the changes in the notebook (not in MS Excel or any other environment).\n",
    "7. Essential inputs are predefined in each function. Only use them. **DO NOT** add any other inputs."
   ]
  },
  {
   "cell_type": "markdown",
   "metadata": {},
   "source": [
    "## Import Libraries"
   ]
  },
  {
   "cell_type": "code",
   "execution_count": null,
   "metadata": {
    "ExecuteTime": {
     "end_time": "2022-08-29T08:31:26.301928Z",
     "start_time": "2022-08-29T08:31:25.198879Z"
    }
   },
   "outputs": [],
   "source": [
    "# Don't change this cell.\n",
    "import pandas as pd\n",
    "import numpy as np\n",
    "import matplotlib.pyplot as plt\n",
    "%matplotlib notebook"
   ]
  },
  {
   "cell_type": "markdown",
   "metadata": {},
   "source": [
    "#### import your dataset here"
   ]
  },
  {
   "cell_type": "code",
   "execution_count": null,
   "metadata": {
    "ExecuteTime": {
     "end_time": "2022-08-29T08:31:26.874432Z",
     "start_time": "2022-08-29T08:31:26.842482Z"
    }
   },
   "outputs": [],
   "source": [
    "df = pd.read_csv(\"enter the path\")\n",
    "df.head()"
   ]
  },
  {
   "cell_type": "markdown",
   "metadata": {},
   "source": [
    "## Question 1\n",
    "In this question, you should change the names of the columns with the names in the first row of the dataset. After that, remove the first row.\n",
    "\n",
    "Write your code in the following function named \"answer_one\".\n",
    "\n",
    "This function should return a **dataframe** with 201 rows."
   ]
  },
  {
   "cell_type": "code",
   "execution_count": null,
   "metadata": {
    "ExecuteTime": {
     "end_time": "2022-08-29T08:31:28.250713Z",
     "start_time": "2022-08-29T08:31:28.232762Z"
    }
   },
   "outputs": [],
   "source": [
    "def answer_one(df):\n",
    "    \n",
    "    ''' write your \n",
    "    code in this function'''\n",
    "   \n",
    "    return"
   ]
  },
  {
   "cell_type": "code",
   "execution_count": null,
   "metadata": {
    "ExecuteTime": {
     "end_time": "2022-08-29T08:31:28.729432Z",
     "start_time": "2022-08-29T08:31:28.711481Z"
    }
   },
   "outputs": [],
   "source": [
    "# Don't change this cell.\n",
    "df = answer_one(df)\n",
    "df.head()"
   ]
  },
  {
   "cell_type": "markdown",
   "metadata": {},
   "source": [
    "## Question 2\n",
    "Does this dataset contain any Null Values?\n",
    "\n",
    "If it does, return the index and the name of the columns which have null values as a *List* (not an array or any other data type), otherwise just return an empty List.\n",
    "\n",
    "This function should return a **list** in the following order: [indexes , names of the columns]\n",
    "\n",
    "For example: `[1,2,3,4,5,6,7,'gas' , 'diesel']`\n"
   ]
  },
  {
   "cell_type": "code",
   "execution_count": null,
   "metadata": {
    "ExecuteTime": {
     "end_time": "2022-08-29T08:31:30.228423Z",
     "start_time": "2022-08-29T08:31:30.219447Z"
    }
   },
   "outputs": [],
   "source": [
    "def answer_two(df):\n",
    "    \n",
    "    ''' write your \n",
    "    code in this function'''\n",
    "\n",
    "    return"
   ]
  },
  {
   "cell_type": "code",
   "execution_count": null,
   "metadata": {
    "ExecuteTime": {
     "end_time": "2022-08-29T08:31:30.814852Z",
     "start_time": "2022-08-29T08:31:30.770971Z"
    }
   },
   "outputs": [],
   "source": [
    "# Don't change this cell.\n",
    "answer_two(df)"
   ]
  },
  {
   "cell_type": "markdown",
   "metadata": {
    "ExecuteTime": {
     "end_time": "2022-03-16T17:33:15.610241Z",
     "start_time": "2022-03-16T17:33:15.588606Z"
    }
   },
   "source": [
    "## Question 3\n",
    "First of all, fill the Null values of the data frame with the most common value in the related column.\n",
    "\n",
    "\n",
    "Then, count the number of repetitions of values in the following columns:\n",
    "1. num-of-doors\n",
    "2. stroke\n",
    "3. engine-location\n",
    "4. horsepower-binned\n",
    "\n",
    "If there were more than 3 unique values in any of the mentioned columns, count only 3 that are more frequent than others.\n",
    "\n",
    "This function should return a **dictionary** containing 4 keys (names of the columns) and 4 values as **lists** (sorted in a descending order of the 3 most frequent values). By the way, if there were less unique values in a column, only return those in the list.\n",
    "\n",
    "For example, a possible outcome may be:\n",
    "\n",
    "`{'num-of-doors': [32,20,10] , 'stroke': [56,43] , 'engine-location': [90 , 30 , 10] , 'horsepower-binned' : [54,53]}`\n",
    "\n",
    "**Hint:** Search about how to count values in a column ... ."
   ]
  },
  {
   "cell_type": "code",
   "execution_count": null,
   "metadata": {
    "ExecuteTime": {
     "end_time": "2022-08-29T08:31:33.785904Z",
     "start_time": "2022-08-29T08:31:33.775931Z"
    }
   },
   "outputs": [],
   "source": [
    "def answer_three(df):\n",
    "    \n",
    "    ''' write your \n",
    "    code in this function'''\n",
    "\n",
    "    return"
   ]
  },
  {
   "cell_type": "code",
   "execution_count": null,
   "metadata": {
    "ExecuteTime": {
     "end_time": "2022-08-29T08:31:34.808168Z",
     "start_time": "2022-08-29T08:31:34.794239Z"
    }
   },
   "outputs": [],
   "source": [
    "# Don't change this cell.\n",
    "answer_three(df)"
   ]
  },
  {
   "cell_type": "markdown",
   "metadata": {},
   "source": [
    "# Question 4\n",
    "Check the dtype of the following columns:\n",
    "- symboling\n",
    "- normalized-losses\n",
    "- price\n",
    "- engine-size\n",
    " \n",
    "Change their type if you think they are not saved in an appropriate way.\n",
    " \n",
    "This function should return a **dataframe**.\n",
    " \n",
    "**Hint:** Search about changing the type of a column ..."
   ]
  },
  {
   "cell_type": "code",
   "execution_count": null,
   "metadata": {
    "ExecuteTime": {
     "end_time": "2022-08-29T08:31:39.852069Z",
     "start_time": "2022-08-29T08:31:39.842096Z"
    }
   },
   "outputs": [],
   "source": [
    "def answer_four(df):\n",
    "    \n",
    "    ''' write your \n",
    "    code in this function'''\n",
    "\n",
    "    return"
   ]
  },
  {
   "cell_type": "code",
   "execution_count": null,
   "metadata": {
    "ExecuteTime": {
     "end_time": "2022-08-29T08:31:40.781582Z",
     "start_time": "2022-08-29T08:31:40.749669Z"
    }
   },
   "outputs": [],
   "source": [
    "# Don't change this cell.\n",
    "df = answer_four(df)\n",
    "df.head()"
   ]
  },
  {
   "cell_type": "markdown",
   "metadata": {},
   "source": [
    "## Question 5\n",
    "Using the Describe method, describe **length** and **wheel-base** columns.\n",
    "\n",
    "This function should return a **dataframe** with two columns \"length\" and \"wheel-base\" (respectively) and 8 rows named: `count`, `mean`, `std`, `min`, `25%`, `50%`, `75%` and `max`.\n",
    "\n",
    "**DO NOT** use any other aggregation method to calculate these statistics.\n",
    "\n",
    "**Hint**: Check out the type of the values in these columns ..."
   ]
  },
  {
   "cell_type": "code",
   "execution_count": null,
   "metadata": {
    "ExecuteTime": {
     "end_time": "2022-08-29T08:31:45.484365Z",
     "start_time": "2022-08-29T08:31:45.475390Z"
    }
   },
   "outputs": [],
   "source": [
    "def answer_five(df):\n",
    "    \n",
    "    ''' write your \n",
    "    code in this function'''\n",
    "    \n",
    "    return "
   ]
  },
  {
   "cell_type": "code",
   "execution_count": null,
   "metadata": {
    "ExecuteTime": {
     "end_time": "2022-08-29T08:31:46.267303Z",
     "start_time": "2022-08-29T08:31:46.240342Z"
    }
   },
   "outputs": [],
   "source": [
    "# Don't change this cell.\n",
    "answer_five(df)"
   ]
  },
  {
   "cell_type": "markdown",
   "metadata": {},
   "source": [
    "## Question 6\n",
    "Plot a figure with 4 axes, each with a box plot.\n",
    "1. Axis 1: Box plot of the price of cars with 4 cylinders.\n",
    "2. Axis 2: Box plot of the price of cars with 6 cylinders.\n",
    "3. Axis 3: Box plot of the price of cars with 5 cylinders.\n",
    "4. Axis 4: Box plot of the price of cars with 8 cylinders.\n",
    "\n",
    "Do the following tasks as well:\n",
    "- remove the number below ever axis.\n",
    "- set a title for each axis.\n",
    "- set a title for the whole figure with font size equal to 20.\n",
    "- set a seaborn background using plt.style.use()\n",
    "\n",
    "This function should return a **figure**."
   ]
  },
  {
   "cell_type": "code",
   "execution_count": null,
   "metadata": {
    "ExecuteTime": {
     "end_time": "2022-08-29T08:31:47.901246Z",
     "start_time": "2022-08-29T08:31:47.886240Z"
    }
   },
   "outputs": [],
   "source": [
    "def answer_six(df):\n",
    "    \n",
    "    ''' write your \n",
    "    code in this function'''\n"
   ]
  },
  {
   "cell_type": "code",
   "execution_count": null,
   "metadata": {
    "ExecuteTime": {
     "end_time": "2022-08-29T08:31:48.842888Z",
     "start_time": "2022-08-29T08:31:48.668180Z"
    }
   },
   "outputs": [],
   "source": [
    "# Don't change this cell.\n",
    "answer_six(df)"
   ]
  },
  {
   "cell_type": "markdown",
   "metadata": {},
   "source": [
    "## Question 7\n",
    "Plot the bar chart of the average price of each car manufacturer.\n",
    "\n",
    "The bars should be in an ascending order, which means that the lowest price has to be in the left corner of the plot, while the highest one should be placed in the right corner.\n",
    "\n",
    "Additionally, the size of the figure should be changed to (10,5).\n",
    "\n",
    "**Don't forget** to apply necessary changes to the plot.\n",
    "\n",
    "This function should return a **figure with 1 axis**.\n",
    "\n",
    "**Hint:** Search about how to group a dataframe based on a column and see different examples of its functionality."
   ]
  },
  {
   "cell_type": "code",
   "execution_count": null,
   "metadata": {
    "ExecuteTime": {
     "end_time": "2022-08-29T08:31:58.907891Z",
     "start_time": "2022-08-29T08:31:58.888941Z"
    }
   },
   "outputs": [],
   "source": [
    "def answer_seven(df):\n",
    "    \n",
    "    ''' write your \n",
    "    code in this function'''\n"
   ]
  },
  {
   "cell_type": "code",
   "execution_count": null,
   "metadata": {
    "ExecuteTime": {
     "end_time": "2022-08-29T08:31:59.831718Z",
     "start_time": "2022-08-29T08:31:59.730988Z"
    }
   },
   "outputs": [],
   "source": [
    "# Don't change this cell.\n",
    "answer_seven(df)"
   ]
  },
  {
   "cell_type": "markdown",
   "metadata": {},
   "source": [
    "## Question 8 (Bonus)\n",
    "Plot a suitable chart in order to investigate the relationship between `engine-size` and `price`.\n",
    "\n",
    "Add labels for x and y axis as well\n",
    "\n",
    "The title of the plot should include the \"kind of the plot\" (i.e. box plot, bar chart, ...) and the R2 score (with 2 decimal point). **(For example: bar chart, R2 = 0.62)**\n",
    "\n",
    "This function should return a **figure with 1 axis**."
   ]
  },
  {
   "cell_type": "code",
   "execution_count": null,
   "metadata": {
    "ExecuteTime": {
     "end_time": "2022-08-29T08:32:23.151430Z",
     "start_time": "2022-08-29T08:32:23.135494Z"
    }
   },
   "outputs": [],
   "source": [
    "def answer_eight(df):\n",
    "    \n",
    "    ''' write your \n",
    "    code in this function'''\n"
   ]
  },
  {
   "cell_type": "code",
   "execution_count": null,
   "metadata": {
    "ExecuteTime": {
     "end_time": "2022-08-29T08:32:23.580485Z",
     "start_time": "2022-08-29T08:32:23.508676Z"
    }
   },
   "outputs": [],
   "source": [
    "# Don't change this cell.\n",
    "answer_eight(df)"
   ]
  }
 ],
 "metadata": {
  "kernelspec": {
   "display_name": "Python 3 (ipykernel)",
   "language": "python",
   "name": "python3"
  },
  "language_info": {
   "codemirror_mode": {
    "name": "ipython",
    "version": 3
   },
   "file_extension": ".py",
   "mimetype": "text/x-python",
   "name": "python",
   "nbconvert_exporter": "python",
   "pygments_lexer": "ipython3",
   "version": "3.8.5"
  },
  "toc": {
   "base_numbering": 1,
   "nav_menu": {},
   "number_sections": false,
   "sideBar": true,
   "skip_h1_title": false,
   "title_cell": "Table of Contents",
   "title_sidebar": "Contents",
   "toc_cell": false,
   "toc_position": {
    "height": "calc(100% - 180px)",
    "left": "10px",
    "top": "150px",
    "width": "174px"
   },
   "toc_section_display": true,
   "toc_window_display": false
  },
  "varInspector": {
   "cols": {
    "lenName": 16,
    "lenType": 16,
    "lenVar": 40
   },
   "kernels_config": {
    "python": {
     "delete_cmd_postfix": "",
     "delete_cmd_prefix": "del ",
     "library": "var_list.py",
     "varRefreshCmd": "print(var_dic_list())"
    },
    "r": {
     "delete_cmd_postfix": ") ",
     "delete_cmd_prefix": "rm(",
     "library": "var_list.r",
     "varRefreshCmd": "cat(var_dic_list()) "
    }
   },
   "types_to_exclude": [
    "module",
    "function",
    "builtin_function_or_method",
    "instance",
    "_Feature"
   ],
   "window_display": false
  }
 },
 "nbformat": 4,
 "nbformat_minor": 4
}
